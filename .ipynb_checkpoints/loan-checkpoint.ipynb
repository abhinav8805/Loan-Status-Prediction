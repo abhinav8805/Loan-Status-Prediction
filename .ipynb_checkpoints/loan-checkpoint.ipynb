{
 "cells": [
  {
   "cell_type": "code",
   "execution_count": null,
   "id": "1e29bda6-184c-4320-a8b4-20623a516c89",
   "metadata": {},
   "outputs": [],
   "source": [
    "\n",
    "\n",
    "import seaborn as sns\n",
    "import numpy as np\n",
    "import pandas as pd\n",
    "from sklearn.model_selection import train_test_split\n",
    "from sklearn import svm\n",
    "from sklearn.metrics import accuracy_score\n"
   ]
  },
  {
   "cell_type": "code",
   "execution_count": null,
   "id": "52e1a8f1-d05d-47b3-a179-59bf769b1131",
   "metadata": {},
   "outputs": [],
   "source": [
    "data=pd.read_csv(\"loan_repayment_prediction.csv\")\n",
    "type(data)"
   ]
  },
  {
   "cell_type": "code",
   "execution_count": null,
   "id": "e94874ed-3405-4faf-9074-c4b7ada3f9e4",
   "metadata": {},
   "outputs": [],
   "source": [
    "data.head(10)\n"
   ]
  },
  {
   "cell_type": "code",
   "execution_count": null,
   "id": "6001ee56-3872-4958-9a63-7eec5fb2fc80",
   "metadata": {},
   "outputs": [],
   "source": [
    "\n",
    "data.describe()\n"
   ]
  },
  {
   "cell_type": "code",
   "execution_count": null,
   "id": "91c98454-82e7-4f27-a0e0-52eed166fec7",
   "metadata": {},
   "outputs": [],
   "source": [
    "data.isnull().sum()"
   ]
  },
  {
   "cell_type": "code",
   "execution_count": null,
   "id": "2ff58817-81d8-4ac5-87c6-899fc79e46bd",
   "metadata": {},
   "outputs": [],
   "source": [
    "data.shape"
   ]
  },
  {
   "cell_type": "code",
   "execution_count": null,
   "id": "2e11dd75-2472-4ff2-bf88-661f99d7fdcd",
   "metadata": {},
   "outputs": [],
   "source": [
    "new_data=data.dropna()"
   ]
  },
  {
   "cell_type": "code",
   "execution_count": null,
   "id": "55e2f771-976d-4290-b7d8-d5e8f68eeb4f",
   "metadata": {},
   "outputs": [],
   "source": [
    "new_data.head(3)"
   ]
  },
  {
   "cell_type": "code",
   "execution_count": null,
   "id": "4fd99ab1-89ea-41f2-bc22-13c0cd32f8a4",
   "metadata": {},
   "outputs": [],
   "source": [
    "new_data.shape"
   ]
  },
  {
   "cell_type": "code",
   "execution_count": null,
   "id": "abcb96a1-581a-4cd9-907b-b2ce0f037fd4",
   "metadata": {},
   "outputs": [],
   "source": [
    "new_data.isnull().sum()"
   ]
  },
  {
   "cell_type": "code",
   "execution_count": null,
   "id": "994f04fb-cd9f-48a3-85c6-bda5d1b1af86",
   "metadata": {},
   "outputs": [],
   "source": [
    "new_data.replace({ \"Loan_Status\":{'N':0,'Y':1}},inplace=True)"
   ]
  },
  {
   "cell_type": "code",
   "execution_count": null,
   "id": "0cdd212c-591a-4a2c-be3d-32c4e6e25f9e",
   "metadata": {},
   "outputs": [],
   "source": [
    "new_data[\"Credit_History\"].value_counts()"
   ]
  },
  {
   "cell_type": "code",
   "execution_count": null,
   "id": "ebc7fdc4-07ff-4e49-96b9-0847068892f5",
   "metadata": {},
   "outputs": [],
   "source": [
    "new_data[\"Dependents\"].value_counts()"
   ]
  },
  {
   "cell_type": "code",
   "execution_count": null,
   "id": "b773bd9b-cabe-42c6-acca-d716f2436e19",
   "metadata": {},
   "outputs": [],
   "source": [
    "new_data = new_data.replace(\"3+\", 4)\n",
    "\n",
    "new_data =new_data.replace(\"2\",2)\n",
    "new_data =new_data.replace(\"1\",1)\n",
    "new_data =new_data.replace(\"0\",0)"
   ]
  },
  {
   "cell_type": "code",
   "execution_count": null,
   "id": "a08c4aee-69d6-4f5a-ab05-2e9701539e0e",
   "metadata": {},
   "outputs": [],
   "source": [
    "new_data[\"Dependents\"].value_counts()"
   ]
  },
  {
   "cell_type": "code",
   "execution_count": null,
   "id": "13ed7d4f-2de0-45ac-872c-00382648d28e",
   "metadata": {},
   "outputs": [],
   "source": [
    "sns.countplot(x=\"Education\",hue=\"Loan_Status\",data=new_data)"
   ]
  },
  {
   "cell_type": "code",
   "execution_count": null,
   "id": "af2eadb8-e63a-4b47-95e7-1eeb89974eac",
   "metadata": {},
   "outputs": [],
   "source": [
    "sns.histplot(x=\"LoanAmount\", y=\"Loan_Status\",  data=new_data)"
   ]
  },
  {
   "cell_type": "code",
   "execution_count": null,
   "id": "ae1e5a42-b887-4643-917f-e5110a3d747f",
   "metadata": {},
   "outputs": [],
   "source": [
    "sns.violinplot(x=\"Dependents\", y=\"Loan_Status\",  data=new_data)"
   ]
  },
  {
   "cell_type": "code",
   "execution_count": null,
   "id": "609268dd-9f82-4043-ac36-6ea6da74a146",
   "metadata": {},
   "outputs": [],
   "source": [
    "# For numerical or ordinal variable histogram (if Dependents is numeric)\n",
    "sns.histplot(data=new_data, x='Dependents', bins=10)\n",
    "\n"
   ]
  },
  {
   "cell_type": "code",
   "execution_count": null,
   "id": "da19b2e7-4445-4741-b41f-71661919c37a",
   "metadata": {},
   "outputs": [],
   "source": [
    "new_data.replace({'Married':{'No':0,'Yes':1},'Gender':{'Male':1,'Female':0},'Self_Employed':{'No':0,'Yes':1},\n",
    "                      'Property_Area':{'Rural':0,'Semiurban':1,'Urban':2},'Education':{'Graduate':1,'Not Graduate':0}},inplace=True)"
   ]
  },
  {
   "cell_type": "code",
   "execution_count": null,
   "id": "51ae6a2a-b26c-4ce2-b377-9b1dca29a3e1",
   "metadata": {},
   "outputs": [],
   "source": [
    "new_data.head(2)"
   ]
  },
  {
   "cell_type": "code",
   "execution_count": null,
   "id": "6e5dfdde-a21f-43c5-a7ca-2aea61a7742b",
   "metadata": {},
   "outputs": [],
   "source": [
    "X=new_data.drop(columns=['Loan_ID','Loan_Status'],axis=1)\n",
    "Y=new_data['Loan_Status']"
   ]
  },
  {
   "cell_type": "code",
   "execution_count": null,
   "id": "9bc2897d-044e-498e-a20b-66a4455639b7",
   "metadata": {},
   "outputs": [],
   "source": [
    "print(X)\n",
    "print(Y)"
   ]
  },
  {
   "cell_type": "code",
   "execution_count": null,
   "id": "c0d9a174-3ced-4a5d-925e-161f976781d7",
   "metadata": {},
   "outputs": [],
   "source": [
    "X_train, X_test,Y_train,Y_test = train_test_split(X,Y,test_size=0.1,stratify=Y)"
   ]
  },
  {
   "cell_type": "code",
   "execution_count": null,
   "id": "1c131461-522d-4d74-bc89-e327b1a53b73",
   "metadata": {},
   "outputs": [],
   "source": [
    "classifier = svm.SVC(kernel='linear')"
   ]
  },
  {
   "cell_type": "code",
   "execution_count": null,
   "id": "e0d27141-028b-43d7-ba1a-a05c8834c99f",
   "metadata": {},
   "outputs": [],
   "source": [
    "classifier.fit(X_train,Y_train)"
   ]
  },
  {
   "cell_type": "code",
   "execution_count": null,
   "id": "e6fda472-d046-4f0b-9c20-4ea0aeaa5346",
   "metadata": {},
   "outputs": [],
   "source": [
    "X_train_prediction = classifier.predict(X_train)\n",
    "training_data_accuray = accuracy_score(X_train_prediction,Y_train)"
   ]
  },
  {
   "cell_type": "code",
   "execution_count": null,
   "id": "6676f261-fcac-433c-82aa-c4460261859b",
   "metadata": {},
   "outputs": [],
   "source": [
    "print('Accuracy on training data : ', training_data_accuray)"
   ]
  },
  {
   "cell_type": "code",
   "execution_count": null,
   "id": "d4a984b5-9549-490e-9afa-568f0719888b",
   "metadata": {},
   "outputs": [],
   "source": [
    "X_test_prediction = classifier.predict(X_test)\n",
    "test_data_accuray = accuracy_score(X_test_prediction,Y_test)"
   ]
  },
  {
   "cell_type": "code",
   "execution_count": null,
   "id": "eea8ff47-5867-4622-98d7-21df6e709e00",
   "metadata": {},
   "outputs": [],
   "source": [
    "print('Accuracy on test data : ', test_data_accuray)"
   ]
  },
  {
   "cell_type": "code",
   "execution_count": null,
   "id": "14a65ff4-dc8c-487c-9dac-010b6a9f7b0a",
   "metadata": {
    "scrolled": true
   },
   "outputs": [],
   "source": [
    "gender = input(\"Enter your gender (Male/Female): \")\n",
    "g = 1 if gender[0].upper() == 'M' else 0\n",
    "married = input(\"Are you married? (Yes/No): \")\n",
    "m = 1 if married[0].upper() == 'Y' else 0\n",
    "self_employed = input(\"Are you self-employed? (Yes/No): \")\n",
    "se = 1 if self_employed[0].upper() == 'Y' else 0\n",
    "education = input(\"Are you a graduate? (Yes/No): \")\n",
    "edu = 1 if education[0].upper() == 'Y' else 0\n",
    "property_area = input(\"Property area (Rural/Semiurban/Urban): \").lower()\n",
    "if property_area.startswith('r'):\n",
    "    pa = 0\n",
    "elif property_area.startswith('s'):\n",
    "    pa = 1\n",
    "else:\n",
    "    pa = 2\n",
    "Dependents = int(input(\"How many dependents do you have on you? \"))\n",
    "if Dependents == 0:\n",
    "    d = 0\n",
    "elif Dependents == 1:\n",
    "    d = 1\n",
    "elif Dependents == 2:\n",
    "    d = 2\n",
    "else:\n",
    "    d=4\n",
    "applicantincome = int(input(\"How much do you earn in a year? \"))\n",
    "coapplicantincome = int(input(\"How much does your coapplicant earn in a year? \"))\n",
    "loanamount = int(input(\"Enter the desired loan amount: \"))\n",
    "loan_amount_term = int(input(\"Enter the loan amount term (in days): \"))\n",
    "credit_history = int(input(\"Do you have a good credit history? (1 for Yes, 0 for No): \"))"
   ]
  },
  {
   "cell_type": "code",
   "execution_count": null,
   "id": "7f39331f-a146-45c4-a0e0-7d5428484fe8",
   "metadata": {},
   "outputs": [],
   "source": [
    "running_input=[g,m,d,edu,se,applicantincome,coapplicantincome,loanamount,loan_amount_term,credit_history,pa]\n",
    "running_output=[classifier.predict(running_input)]\n",
    "print(running_output)"
   ]
  },
  {
   "cell_type": "code",
   "execution_count": null,
   "id": "3b15e8a5-646d-4b55-9f03-b90b31e3612a",
   "metadata": {},
   "outputs": [],
   "source": []
  }
 ],
 "metadata": {
  "kernelspec": {
   "display_name": "Python 3 (ipykernel)",
   "language": "python",
   "name": "python3"
  },
  "language_info": {
   "codemirror_mode": {
    "name": "ipython",
    "version": 3
   },
   "file_extension": ".py",
   "mimetype": "text/x-python",
   "name": "python",
   "nbconvert_exporter": "python",
   "pygments_lexer": "ipython3",
   "version": "3.13.3"
  }
 },
 "nbformat": 4,
 "nbformat_minor": 5
}
